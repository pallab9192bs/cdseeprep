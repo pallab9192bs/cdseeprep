{
 "cells": [
  {
   "cell_type": "markdown",
   "id": "5238b590-bcd2-4252-afb8-bcc54c9c3180",
   "metadata": {
    "tags": []
   },
   "source": [
    "# NFC Payment Approvation Through ML\n",
    "\n",
    "#### 0 : transaction  approved\n",
    "#### 1:  transction rejected"
   ]
  },
  {
   "cell_type": "code",
   "execution_count": 61,
   "id": "12361f8f-b267-42c1-b652-ac4d2bef75b7",
   "metadata": {
    "tags": []
   },
   "outputs": [],
   "source": [
    "import joblib"
   ]
  },
  {
   "cell_type": "code",
   "execution_count": 62,
   "id": "aa240211-5d2c-45fe-ae5d-a8e16fc605e8",
   "metadata": {
    "tags": []
   },
   "outputs": [],
   "source": [
    "model=joblib.load('NFC2')"
   ]
  },
  {
   "cell_type": "code",
   "execution_count": 72,
   "id": "6fd9a3b6-1907-473c-be6d-54837eae6de3",
   "metadata": {
    "tags": []
   },
   "outputs": [
    {
     "name": "stderr",
     "output_type": "stream",
     "text": [
      "C:\\Users\\usark\\anaconda3\\Lib\\site-packages\\sklearn\\base.py:464: UserWarning: X does not have valid feature names, but RandomForestClassifier was fitted with feature names\n",
      "  warnings.warn(\n"
     ]
    },
    {
     "data": {
      "text/plain": [
       "array([0], dtype=int64)"
      ]
     },
     "execution_count": 72,
     "metadata": {},
     "output_type": "execute_result"
    }
   ],
   "source": [
    "x=model.predict([[0.01,600]])\n",
    "x"
   ]
  },
  {
   "cell_type": "code",
   "execution_count": 73,
   "id": "701883c8-8e95-45d2-8c7d-5fe4b9edebc5",
   "metadata": {
    "tags": []
   },
   "outputs": [
    {
     "name": "stderr",
     "output_type": "stream",
     "text": [
      "C:\\Users\\usark\\anaconda3\\Lib\\site-packages\\sklearn\\base.py:464: UserWarning: X does not have valid feature names, but RandomForestClassifier was fitted with feature names\n",
      "  warnings.warn(\n"
     ]
    },
    {
     "data": {
      "text/plain": [
       "array([1], dtype=int64)"
      ]
     },
     "execution_count": 73,
     "metadata": {},
     "output_type": "execute_result"
    }
   ],
   "source": [
    "y=model.predict([[10.01,600]])\n",
    "y"
   ]
  },
  {
   "cell_type": "code",
   "execution_count": 101,
   "id": "e6366e7e-fc6e-4c29-aefa-9f042fec8e58",
   "metadata": {
    "tags": []
   },
   "outputs": [],
   "source": [
    "list=[x,y]\n"
   ]
  },
  {
   "cell_type": "code",
   "execution_count": 103,
   "id": "d143296d-ac8e-42ea-a56f-e8e30a284201",
   "metadata": {
    "tags": []
   },
   "outputs": [
    {
     "data": {
      "text/plain": [
       "Text(0, 0.5, 'Field Type')"
      ]
     },
     "execution_count": 103,
     "metadata": {},
     "output_type": "execute_result"
    },
    {
     "data": {
      "image/png": "[encoded data removed]",
      "text/plain": [
       "<Figure size 640x480 with 1 Axes>"
      ]
     },
     "metadata": {},
     "output_type": "display_data"
    }
   ],
   "source": [
    "st=py_rober.countplot(list,palette='PuBu',orient=\"h\")\n",
    "for pickle in st.containers:\n",
    "    st.bar_label(pickle)\n",
    "plt.xlabel(\"Approvation Surface\")\n",
    "plt.ylabel(\"Field Type\")"
   ]
  },
  {
   "cell_type": "code",
   "execution_count": 90,
   "id": "91fbe8ed-dd7f-49f7-9b1f-f9b4a61baf8b",
   "metadata": {
    "tags": []
   },
   "outputs": [
    {
     "name": "stderr",
     "output_type": "stream",
     "text": [
      "C:\\Users\\usark\\anaconda3\\Lib\\site-packages\\sklearn\\base.py:464: UserWarning: X does not have valid feature names, but RandomForestClassifier was fitted with feature names\n",
      "  warnings.warn(\n"
     ]
    },
    {
     "data": {
      "text/plain": [
       "array([0], dtype=int64)"
      ]
     },
     "execution_count": 90,
     "metadata": {},
     "output_type": "execute_result"
    }
   ],
   "source": [
    "model.predict([[0.02,300]])"
   ]
  },
  {
   "cell_type": "code",
   "execution_count": 97,
   "id": "7ba522af-4441-4757-9f29-b5207104e9c3",
   "metadata": {
    "tags": []
   },
   "outputs": [],
   "source": [
    "da=pd.read_csv(\"C:\\\\Users\\\\usark\\\\OneDrive\\\\Desktop\\\\ML Datasets\\\\adb.csv\")"
   ]
  },
  {
   "cell_type": "code",
   "execution_count": 98,
   "id": "cd4c33a7-89b0-4bc4-97eb-203ae9dabddc",
   "metadata": {
    "tags": []
   },
   "outputs": [
    {
     "data": {
      "text/plain": [
       "array([0, 0, 1, 0, 1, 1, 1, 1, 1, 1, 1], dtype=int64)"
      ]
     },
     "execution_count": 98,
     "metadata": {},
     "output_type": "execute_result"
    }
   ],
   "source": [
    "model.predict(da)"
   ]
  },
  {
   "cell_type": "code",
   "execution_count": null,
   "id": "29a55618-dde4-4812-84af-110cee16eff7",
   "metadata": {},
   "outputs": [],
   "source": []
  }
 ],
 "metadata": {
  "kernelspec": {
   "display_name": "Python 3 (ipykernel)",
   "language": "python",
   "name": "python3"
  },
  "language_info": {
   "codemirror_mode": {
    "name": "ipython",
    "version": 3
   },
   "file_extension": ".py",
   "mimetype": "text/x-python",
   "name": "python",
   "nbconvert_exporter": "python",
   "pygments_lexer": "ipython3",
   "version": "3.11.4"
  }
 },
 "nbformat": 4,
 "nbformat_minor": 5
}
